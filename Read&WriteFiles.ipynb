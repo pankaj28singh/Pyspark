{
 "cells": [
  {
   "cell_type": "markdown",
   "metadata": {},
   "source": [
    "# Python File I/O "
   ]
  },
  {
   "cell_type": "code",
   "execution_count": 1,
   "metadata": {},
   "outputs": [
    {
     "data": {
      "text/plain": [
       "'C:\\\\jupyter-python-code'"
      ]
     },
     "execution_count": 1,
     "metadata": {},
     "output_type": "execute_result"
    }
   ],
   "source": [
    "import os\n",
    "os.getcwd()"
   ]
  },
  {
   "cell_type": "code",
   "execution_count": 2,
   "metadata": {},
   "outputs": [
    {
     "data": {
      "text/plain": [
       "['.ipynb_checkpoints',\n",
       " 'Functions.ipynb',\n",
       " 'Read&WriteFiles.ipynb',\n",
       " 'test.ipynb']"
      ]
     },
     "execution_count": 2,
     "metadata": {},
     "output_type": "execute_result"
    }
   ],
   "source": [
    " os.listdir()"
   ]
  },
  {
   "cell_type": "code",
   "execution_count": 30,
   "metadata": {},
   "outputs": [],
   "source": [
    "f=open(\"word.txt\",'r')"
   ]
  },
  {
   "cell_type": "code",
   "execution_count": 31,
   "metadata": {},
   "outputs": [
    {
     "name": "stdout",
     "output_type": "stream",
     "text": [
      "hi pankaj\n",
      "how r u\n",
      "great work\n"
     ]
    }
   ],
   "source": [
    "for line in f:\n",
    "    line=line.strip()\n",
    "    print(line)\n",
    "f.close()"
   ]
  },
  {
   "cell_type": "code",
   "execution_count": 1,
   "metadata": {},
   "outputs": [
    {
     "name": "stdout",
     "output_type": "stream",
     "text": [
      "The string after replacing strings is : geeksforgeeks is for geeks\n"
     ]
    }
   ],
   "source": [
    "str = \"nerdsfornerds is for nerds\"\n",
    "  \n",
    "str1 = \"nerds\"\n",
    "str2 = \"geeks\"\n",
    "print (\"The string after replacing strings is : \", end=\"\") \n",
    "print (str.replace( str1, str2))  "
   ]
  },
  {
   "cell_type": "code",
   "execution_count": 2,
   "metadata": {},
   "outputs": [
    {
     "name": "stdout",
     "output_type": "stream",
     "text": [
      "['hi pankaj', 'how r u']\n",
      "2\n"
     ]
    }
   ],
   "source": [
    "x=open(\"word.txt\",\"r\")\n",
    "text=[]\n",
    "for i in x:\n",
    "    i=i.strip()\n",
    "    if i[0]=='h':\n",
    "        text.append(i)\n",
    "        \n",
    "    \n",
    "\n",
    "x.close()\n",
    "print(text)\n",
    "print(len(text))"
   ]
  },
  {
   "cell_type": "markdown",
   "metadata": {},
   "source": [
    "# Write"
   ]
  },
  {
   "cell_type": "code",
   "execution_count": null,
   "metadata": {},
   "outputs": [],
   "source": [
    "f =open(\"scores1.txt\",\"a+\")\n",
    "while True:\n",
    "    participant=input(\"participants name is :  >\")\n",
    "    if participant==\"quit\":\n",
    "        break\n",
    "    score =input (\"Score for \"+ participant+ \">\")\n",
    "    \n",
    "    f.write(participant + \" , \"+score+\"\\n\" )\n",
    "f.close()"
   ]
  },
  {
   "cell_type": "markdown",
   "metadata": {},
   "source": [
    "tasks\n",
    "1. read a file and perform wordcount\n",
    "(hi,4)\n",
    "(how,10)\n",
    "(pankaj,3)\n",
    "2. read a file count each line having numbers of character/len in it .\n",
    "(\"f =open(\"scores1.txt\",\"w\")\",78)\n",
    "(\"while True:\",10)\n",
    "\n",
    "3. read a file and count a word of each line .\n",
    "(\"how r u\",3)\n",
    "(\"pankaj is going to mumbai what u doing\"8)\n"
   ]
  },
  {
   "cell_type": "code",
   "execution_count": null,
   "metadata": {},
   "outputs": [],
   "source": []
  }
 ],
 "metadata": {
  "kernelspec": {
   "display_name": "Python 3",
   "language": "python",
   "name": "python3"
  },
  "language_info": {
   "codemirror_mode": {
    "name": "ipython",
    "version": 3
   },
   "file_extension": ".py",
   "mimetype": "text/x-python",
   "name": "python",
   "nbconvert_exporter": "python",
   "pygments_lexer": "ipython3",
   "version": "3.7.3"
  }
 },
 "nbformat": 4,
 "nbformat_minor": 2
}
