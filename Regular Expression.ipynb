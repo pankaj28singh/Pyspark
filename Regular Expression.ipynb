{
 "cells": [
  {
   "cell_type": "markdown",
   "metadata": {},
   "source": [
    "# Regular Exprsession"
   ]
  },
  {
   "cell_type": "markdown",
   "metadata": {},
   "source": [
    "A RegEx, or Regular Expression, is a sequence of characters that forms a search pattern.\n",
    "\n",
    "RegEx can be used to check if a string contains the specified search pattern."
   ]
  },
  {
   "cell_type": "code",
   "execution_count": 3,
   "metadata": {},
   "outputs": [
    {
     "name": "stdout",
     "output_type": "stream",
     "text": [
      "['psp897973@gmail.com', 'abc@gmail.com']\n",
      "<type 'list'>\n"
     ]
    }
   ],
   "source": [
    "import re\n",
    "\n",
    "line = \"hi pankaj my mail id is psp897973@gmail.com and sakshi mail id is abc@gmail.com what about ur mail\"\n",
    "emails = re.findall(r\"[a-z0-9\\.\\-+_]+@[a-z0-9\\.\\-+_]+\\.[a-z]+\", line)\n",
    "print(emails)\n",
    "print(type(emails))"
   ]
  },
  {
   "cell_type": "markdown",
   "metadata": {},
   "source": [
    "Tasks---Search the string to see if it starts with \"The\" and ends with \"Spain\":"
   ]
  },
  {
   "cell_type": "code",
   "execution_count": 4,
   "metadata": {
    "scrolled": true
   },
   "outputs": [
    {
     "name": "stdout",
     "output_type": "stream",
     "text": [
      "<_sre.SRE_Match object at 0x00000000044BBC60>\n",
      "<type '_sre.SRE_Match'>\n",
      "YES! We have a match!\n"
     ]
    }
   ],
   "source": [
    "txt = \"The rain in Spain\"\n",
    "x = re.search(\"^The.*Spain$\", txt)\n",
    "print(x)\n",
    "print(type(x))\n",
    "\n",
    "\n",
    "if (x):\n",
    "    print(\"YES! We have a match!\")\n",
    "else:\n",
    "    print(\"No match\")"
   ]
  },
  {
   "cell_type": "code",
   "execution_count": 5,
   "metadata": {},
   "outputs": [
    {
     "name": "stdout",
     "output_type": "stream",
     "text": [
      "['DEBUG', 'DOTALL', 'I', 'IGNORECASE', 'L', 'LOCALE', 'M', 'MULTILINE', 'S', 'Scanner', 'T', 'TEMPLATE', 'U', 'UNICODE', 'VERBOSE', 'X', '_MAXCACHE', '__all__', '__builtins__', '__doc__', '__file__', '__name__', '__package__', '__version__', '_alphanum', '_cache', '_cache_repl', '_compile', '_compile_repl', '_expand', '_locale', '_pattern_type', '_pickle', '_subx', 'compile', 'copy_reg', 'error', 'escape', 'findall', 'finditer', 'match', 'purge', 'search', 'split', 'sre_compile', 'sre_parse', 'sub', 'subn', 'sys', 'template']\n"
     ]
    }
   ],
   "source": [
    "print(dir(re))"
   ]
  },
  {
   "cell_type": "markdown",
   "metadata": {},
   "source": [
    "# Python String | split()"
   ]
  },
  {
   "cell_type": "markdown",
   "metadata": {},
   "source": [
    "Syntax\n",
    "str.split(separator, maxsplit)"
   ]
  },
  {
   "cell_type": "code",
   "execution_count": 20,
   "metadata": {},
   "outputs": [
    {
     "name": "stdout",
     "output_type": "stream",
     "text": [
      "['The', 'rain', 'in', 'Spain']\n"
     ]
    }
   ],
   "source": [
    "str = \"The rain in Spain\"\n",
    "x = re.split(\"\\s\", str)\n",
    "print(x)"
   ]
  },
  {
   "cell_type": "code",
   "execution_count": 7,
   "metadata": {},
   "outputs": [
    {
     "name": "stdout",
     "output_type": "stream",
     "text": [
      "['geeks', 'for', 'geeks']\n"
     ]
    }
   ],
   "source": [
    "text = 'geeks for geeks'\n",
    "print(text.split()) "
   ]
  },
  {
   "cell_type": "code",
   "execution_count": 8,
   "metadata": {},
   "outputs": [
    {
     "name": "stdout",
     "output_type": "stream",
     "text": [
      "['geeks', 'for', 'geeks']\n"
     ]
    }
   ],
   "source": [
    "word = 'geeks, for, geeks'\n",
    "print(word.split(', ')) "
   ]
  },
  {
   "cell_type": "code",
   "execution_count": 16,
   "metadata": {},
   "outputs": [
    {
     "name": "stdout",
     "output_type": "stream",
     "text": [
      "Cat\n",
      "Bat\n",
      "['Cat', 'Bat', 'Sat', 'Fat', 'Or']\n"
     ]
    }
   ],
   "source": [
    "word = 'CatBatSatFatOr'\n",
    "  \n",
    "# Splitting at 3 \n",
    "i=0\n",
    "print(word[i:i+3])  # word[0:3]\n",
    "i=3\n",
    "print(word[i:i+3]) # word[3:6]\n",
    "print([word[i:i+3] for i in range(0, len(word), 3)]) "
   ]
  },
  {
   "cell_type": "markdown",
   "metadata": {},
   "source": [
    "code2"
   ]
  },
  {
   "cell_type": "code",
   "execution_count": 17,
   "metadata": {},
   "outputs": [
    {
     "name": "stdout",
     "output_type": "stream",
     "text": [
      "['geeks, for, geeks, pawan']\n",
      "['geeks', 'for', 'geeks', 'pawan']\n",
      "['geeks', 'for, geeks, pawan']\n"
     ]
    }
   ],
   "source": [
    "word = 'geeks, for, geeks, pawan'\n",
    "# maxsplit: 0 \n",
    "print(word.split(', ', 0)) \n",
    "  \n",
    "# maxsplit: 4 \n",
    "print(word.split(', ', 4)) \n",
    "  \n",
    "# maxsplit: 1 \n",
    "print(word.split(', ', 1)) "
   ]
  },
  {
   "cell_type": "markdown",
   "metadata": {},
   "source": [
    "# Sub function in regex"
   ]
  },
  {
   "cell_type": "code",
   "execution_count": 18,
   "metadata": {},
   "outputs": [
    {
     "name": "stdout",
     "output_type": "stream",
     "text": [
      "S~*ject has ~*er booked already\n"
     ]
    }
   ],
   "source": [
    "print(re.sub('ub', '~*' , 'Subject has Uber booked already', flags = re.IGNORECASE)) \n"
   ]
  },
  {
   "cell_type": "code",
   "execution_count": 21,
   "metadata": {},
   "outputs": [
    {
     "name": "stdout",
     "output_type": "stream",
     "text": [
      "The9rain9in Spain\n"
     ]
    }
   ],
   "source": [
    "\n",
    "#Replace the first two occurrences of a white-space character with the digit 9:\n",
    "\n",
    "str = \"The rain in Spain\"\n",
    "x = re.sub(\"\\s\", \"9\", str, 2)\n",
    "print(x)\n"
   ]
  },
  {
   "cell_type": "markdown",
   "metadata": {},
   "source": [
    "# Search function\n"
   ]
  },
  {
   "cell_type": "code",
   "execution_count": 19,
   "metadata": {},
   "outputs": [
    {
     "name": "stdout",
     "output_type": "stream",
     "text": [
      "('The first white-space character is located in position:', 3)\n"
     ]
    }
   ],
   "source": [
    "\n",
    "\n",
    "str = \"The rain in Spain\"\n",
    "x = re.search(\"\\s\", str)\n",
    "\n",
    "print(\"The first white-space character is located in position:\", x.start()) "
   ]
  },
  {
   "cell_type": "markdown",
   "metadata": {},
   "source": [
    "# Python list comprehension"
   ]
  },
  {
   "cell_type": "markdown",
   "metadata": {},
   "source": [
    "List comprehension is an elegant way to define and create list in python. We can create lists just like mathematical statements and in one line only. The syntax of list comprehension is easier to grasp."
   ]
  },
  {
   "cell_type": "code",
   "execution_count": 11,
   "metadata": {},
   "outputs": [
    {
     "name": "stdout",
     "output_type": "stream",
     "text": [
      "[1, 9, 25, 49, 81]\n"
     ]
    }
   ],
   "source": [
    "odd_square = [] \n",
    "for x in range(1, 11): \n",
    "    if x % 2 == 1: \n",
    "        odd_square.append(x**2) \n",
    "print odd_square "
   ]
  },
  {
   "cell_type": "code",
   "execution_count": 12,
   "metadata": {},
   "outputs": [
    {
     "name": "stdout",
     "output_type": "stream",
     "text": [
      "[1, 9, 25, 49, 81]\n"
     ]
    }
   ],
   "source": [
    "# Python program to demonstrate list comprehension in Python  \n",
    "  \n",
    "# below list contains square of all odd numbers from \n",
    "# range 1 to 10 \n",
    "odd_square = [x ** 2 for x in range(1, 11) if x % 2 == 1] \n",
    "print odd_square"
   ]
  },
  {
   "cell_type": "code",
   "execution_count": null,
   "metadata": {},
   "outputs": [],
   "source": []
  }
 ],
 "metadata": {
  "kernelspec": {
   "display_name": "Python 2",
   "language": "python",
   "name": "python2"
  },
  "language_info": {
   "codemirror_mode": {
    "name": "ipython",
    "version": 2
   },
   "file_extension": ".py",
   "mimetype": "text/x-python",
   "name": "python",
   "nbconvert_exporter": "python",
   "pygments_lexer": "ipython2",
   "version": "2.7.16"
  }
 },
 "nbformat": 4,
 "nbformat_minor": 2
}
