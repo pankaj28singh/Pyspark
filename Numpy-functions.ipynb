{
 "cells": [
  {
   "cell_type": "markdown",
   "metadata": {},
   "source": [
    "# Numpy-functions\n",
    "\n",
    "1. sort\n",
    "2. intersection\n",
    "3. union\n",
    "4. unique"
   ]
  },
  {
   "cell_type": "code",
   "execution_count": 2,
   "metadata": {},
   "outputs": [
    {
     "name": "stdout",
     "output_type": "stream",
     "text": [
      "[[-0.56902338  1.85077055 -0.64754748 -0.35808073  1.7928456   1.27339735\n",
      "  -0.50181051 -0.52883163 -0.63057133 -0.52580203]\n",
      " [-0.54005287  0.79834238  1.00997486 -0.08372665 -0.16789455  0.8114951\n",
      "   0.11937992  1.32557833  0.46606813 -0.37806741]]\n"
     ]
    }
   ],
   "source": [
    "# Create a copy and sort functions\n",
    "import numpy as np\n",
    "unsorted=np.random.randn(2,10)\n",
    "print(unsorted)"
   ]
  },
  {
   "cell_type": "code",
   "execution_count": 3,
   "metadata": {},
   "outputs": [],
   "source": [
    "sorted =np.array(unsorted)"
   ]
  },
  {
   "cell_type": "code",
   "execution_count": 4,
   "metadata": {},
   "outputs": [
    {
     "name": "stdout",
     "output_type": "stream",
     "text": [
      "[[-0.64754748 -0.63057133 -0.56902338 -0.52883163 -0.52580203 -0.50181051\n",
      "  -0.35808073  1.27339735  1.7928456   1.85077055]\n",
      " [-0.54005287 -0.37806741 -0.16789455 -0.08372665  0.11937992  0.46606813\n",
      "   0.79834238  0.8114951   1.00997486  1.32557833]]\n"
     ]
    }
   ],
   "source": [
    "sorted.sort()\n",
    "print(sorted)"
   ]
  },
  {
   "cell_type": "code",
   "execution_count": 7,
   "metadata": {},
   "outputs": [
    {
     "name": "stdout",
     "output_type": "stream",
     "text": [
      "[10 11 15 20 30]\n"
     ]
    }
   ],
   "source": [
    "# create a unique functions\n",
    "unique_function=np.unique([10,20,30,10,15,20,30,11])\n",
    "print(unique_function)"
   ]
  },
  {
   "cell_type": "code",
   "execution_count": 8,
   "metadata": {},
   "outputs": [],
   "source": [
    "x= np.array(['comp','mouse','monitor'])\n",
    "y=np.array(['laptop','mouse','keyboard'])"
   ]
  },
  {
   "cell_type": "code",
   "execution_count": 9,
   "metadata": {},
   "outputs": [
    {
     "name": "stdout",
     "output_type": "stream",
     "text": [
      "['comp' 'mouse' 'monitor'] ['laptop' 'mouse' 'keyboard']\n"
     ]
    }
   ],
   "source": [
    "print(x,y)"
   ]
  },
  {
   "cell_type": "code",
   "execution_count": 10,
   "metadata": {},
   "outputs": [
    {
     "name": "stdout",
     "output_type": "stream",
     "text": [
      "['mouse']\n"
     ]
    }
   ],
   "source": [
    "# common b/w two string matrices\n",
    "print(np.intersect1d(x,y))"
   ]
  },
  {
   "cell_type": "code",
   "execution_count": 11,
   "metadata": {},
   "outputs": [
    {
     "name": "stdout",
     "output_type": "stream",
     "text": [
      "['comp' 'keyboard' 'laptop' 'monitor' 'mouse']\n"
     ]
    }
   ],
   "source": [
    "# union b/w two string matrices\n",
    "print(np.union1d(x,y))"
   ]
  },
  {
   "cell_type": "code",
   "execution_count": 12,
   "metadata": {},
   "outputs": [
    {
     "name": "stdout",
     "output_type": "stream",
     "text": [
      "['comp' 'monitor']\n"
     ]
    }
   ],
   "source": [
    "# prsent in x but not in y\n",
    "\n",
    "print(np.setdiff1d(x,y))"
   ]
  },
  {
   "cell_type": "code",
   "execution_count": 13,
   "metadata": {},
   "outputs": [
    {
     "name": "stdout",
     "output_type": "stream",
     "text": [
      "[False  True False]\n"
     ]
    }
   ],
   "source": [
    "#vice verse\n",
    "# which element of x also in y(boolean function)\n",
    "print(np.in1d(x,y))"
   ]
  },
  {
   "cell_type": "code",
   "execution_count": null,
   "metadata": {},
   "outputs": [],
   "source": [
    "# vice verse"
   ]
  }
 ],
 "metadata": {
  "kernelspec": {
   "display_name": "Python 3",
   "language": "python",
   "name": "python3"
  },
  "language_info": {
   "codemirror_mode": {
    "name": "ipython",
    "version": 3
   },
   "file_extension": ".py",
   "mimetype": "text/x-python",
   "name": "python",
   "nbconvert_exporter": "python",
   "pygments_lexer": "ipython3",
   "version": "3.7.3"
  }
 },
 "nbformat": 4,
 "nbformat_minor": 2
}
